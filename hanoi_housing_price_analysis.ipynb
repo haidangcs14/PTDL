{
 "cells": [
  {
   "cell_type": "code",
   "execution_count": 1,
   "metadata": {},
   "outputs": [],
   "source": [
    "import numpy as np # linear algebra\n",
    "import pandas as pd # data processing, CSV file I/O \n",
    "import matplotlib.pyplot as plt # visualize data\n",
    "import seaborn as sns"
   ]
  },
  {
   "cell_type": "code",
   "execution_count": 2,
   "metadata": {},
   "outputs": [
    {
     "data": {
      "text/html": [
       "<div>\n",
       "<style scoped>\n",
       "    .dataframe tbody tr th:only-of-type {\n",
       "        vertical-align: middle;\n",
       "    }\n",
       "\n",
       "    .dataframe tbody tr th {\n",
       "        vertical-align: top;\n",
       "    }\n",
       "\n",
       "    .dataframe thead th {\n",
       "        text-align: right;\n",
       "    }\n",
       "</style>\n",
       "<table border=\"1\" class=\"dataframe\">\n",
       "  <thead>\n",
       "    <tr style=\"text-align: right;\">\n",
       "      <th></th>\n",
       "      <th>Ngày</th>\n",
       "      <th>Địa chỉ</th>\n",
       "      <th>Quận</th>\n",
       "      <th>Huyện</th>\n",
       "      <th>Loại hình nhà ở</th>\n",
       "      <th>Giấy tờ pháp lý</th>\n",
       "      <th>Số tầng</th>\n",
       "      <th>Số phòng ngủ</th>\n",
       "      <th>Diện tích</th>\n",
       "      <th>Dài</th>\n",
       "      <th>Rộng</th>\n",
       "      <th>Giá/m2</th>\n",
       "    </tr>\n",
       "  </thead>\n",
       "  <tbody>\n",
       "    <tr>\n",
       "      <th>0.0</th>\n",
       "      <td>2020-08-05</td>\n",
       "      <td>Đường Hoàng Quốc Việt, Phường Nghĩa Đô, Quận C...</td>\n",
       "      <td>Quận Cầu Giấy</td>\n",
       "      <td>Phường Nghĩa Đô</td>\n",
       "      <td>Nhà ngõ, hẻm</td>\n",
       "      <td>Đã có sổ</td>\n",
       "      <td>4</td>\n",
       "      <td>5 phòng</td>\n",
       "      <td>46 m²</td>\n",
       "      <td>NaN</td>\n",
       "      <td>NaN</td>\n",
       "      <td>86,96 triệu/m²</td>\n",
       "    </tr>\n",
       "    <tr>\n",
       "      <th>1.0</th>\n",
       "      <td>2020-08-05</td>\n",
       "      <td>Đường Kim Giang, Phường Kim Giang, Quận Thanh ...</td>\n",
       "      <td>Quận Thanh Xuân</td>\n",
       "      <td>Phường Kim Giang</td>\n",
       "      <td>Nhà mặt phố, mặt tiền</td>\n",
       "      <td>NaN</td>\n",
       "      <td>NaN</td>\n",
       "      <td>3 phòng</td>\n",
       "      <td>37 m²</td>\n",
       "      <td>NaN</td>\n",
       "      <td>NaN</td>\n",
       "      <td>116,22 triệu/m²</td>\n",
       "    </tr>\n",
       "    <tr>\n",
       "      <th>2.0</th>\n",
       "      <td>2020-08-05</td>\n",
       "      <td>phố minh khai, Phường Minh Khai, Quận Hai Bà T...</td>\n",
       "      <td>Quận Hai Bà Trưng</td>\n",
       "      <td>Phường Minh Khai</td>\n",
       "      <td>Nhà ngõ, hẻm</td>\n",
       "      <td>Đã có sổ</td>\n",
       "      <td>4</td>\n",
       "      <td>4 phòng</td>\n",
       "      <td>40 m²</td>\n",
       "      <td>10 m</td>\n",
       "      <td>4 m</td>\n",
       "      <td>65 triệu/m²</td>\n",
       "    </tr>\n",
       "    <tr>\n",
       "      <th>3.0</th>\n",
       "      <td>2020-08-05</td>\n",
       "      <td>Đường Võng Thị, Phường Thụy Khuê, Quận Tây Hồ,...</td>\n",
       "      <td>Quận Tây Hồ</td>\n",
       "      <td>Phường Thụy Khuê</td>\n",
       "      <td>Nhà ngõ, hẻm</td>\n",
       "      <td>Đã có sổ</td>\n",
       "      <td>NaN</td>\n",
       "      <td>6 phòng</td>\n",
       "      <td>51 m²</td>\n",
       "      <td>12.75 m</td>\n",
       "      <td>4 m</td>\n",
       "      <td>100 triệu/m²</td>\n",
       "    </tr>\n",
       "    <tr>\n",
       "      <th>4.0</th>\n",
       "      <td>2020-08-05</td>\n",
       "      <td>Đường Kim Giang, Phường Kim Giang, Quận Thanh ...</td>\n",
       "      <td>Quận Thanh Xuân</td>\n",
       "      <td>Phường Kim Giang</td>\n",
       "      <td>Nhà ngõ, hẻm</td>\n",
       "      <td>NaN</td>\n",
       "      <td>NaN</td>\n",
       "      <td>4 phòng</td>\n",
       "      <td>36 m²</td>\n",
       "      <td>9 m</td>\n",
       "      <td>4 m</td>\n",
       "      <td>86,11 triệu/m²</td>\n",
       "    </tr>\n",
       "  </tbody>\n",
       "</table>\n",
       "</div>"
      ],
      "text/plain": [
       "           Ngày                                            Địa chỉ  \\\n",
       "0.0  2020-08-05  Đường Hoàng Quốc Việt, Phường Nghĩa Đô, Quận C...   \n",
       "1.0  2020-08-05  Đường Kim Giang, Phường Kim Giang, Quận Thanh ...   \n",
       "2.0  2020-08-05  phố minh khai, Phường Minh Khai, Quận Hai Bà T...   \n",
       "3.0  2020-08-05  Đường Võng Thị, Phường Thụy Khuê, Quận Tây Hồ,...   \n",
       "4.0  2020-08-05  Đường Kim Giang, Phường Kim Giang, Quận Thanh ...   \n",
       "\n",
       "                  Quận             Huyện        Loại hình nhà ở  \\\n",
       "0.0      Quận Cầu Giấy   Phường Nghĩa Đô           Nhà ngõ, hẻm   \n",
       "1.0    Quận Thanh Xuân  Phường Kim Giang  Nhà mặt phố, mặt tiền   \n",
       "2.0  Quận Hai Bà Trưng  Phường Minh Khai           Nhà ngõ, hẻm   \n",
       "3.0        Quận Tây Hồ  Phường Thụy Khuê           Nhà ngõ, hẻm   \n",
       "4.0    Quận Thanh Xuân  Phường Kim Giang           Nhà ngõ, hẻm   \n",
       "\n",
       "    Giấy tờ pháp lý Số tầng Số phòng ngủ Diện tích      Dài Rộng  \\\n",
       "0.0        Đã có sổ       4      5 phòng     46 m²      NaN  NaN   \n",
       "1.0             NaN     NaN      3 phòng     37 m²      NaN  NaN   \n",
       "2.0        Đã có sổ       4      4 phòng     40 m²     10 m  4 m   \n",
       "3.0        Đã có sổ     NaN      6 phòng     51 m²  12.75 m  4 m   \n",
       "4.0             NaN     NaN      4 phòng     36 m²      9 m  4 m   \n",
       "\n",
       "              Giá/m2  \n",
       "0.0   86,96 triệu/m²  \n",
       "1.0  116,22 triệu/m²  \n",
       "2.0      65 triệu/m²  \n",
       "3.0     100 triệu/m²  \n",
       "4.0   86,11 triệu/m²  "
      ]
     },
     "execution_count": 2,
     "metadata": {},
     "output_type": "execute_result"
    }
   ],
   "source": [
    "df = pd.read_csv(\"dataset/VN_housing_dataset.csv\", index_col=0)\n",
    "\n",
    "df.head()"
   ]
  },
  {
   "cell_type": "code",
   "execution_count": 3,
   "metadata": {},
   "outputs": [
    {
     "name": "stdout",
     "output_type": "stream",
     "text": [
      "Rows: 82497\n",
      "Cols: 12\n"
     ]
    }
   ],
   "source": [
    "rows, cols = df.shape\n",
    "\n",
    "print(f'Rows: {rows}\\nCols: {cols}')"
   ]
  },
  {
   "cell_type": "markdown",
   "metadata": {},
   "source": [
    "--> Dataset has 82497 rows and 12 columns"
   ]
  },
  {
   "cell_type": "code",
   "execution_count": 4,
   "metadata": {},
   "outputs": [
    {
     "data": {
      "text/plain": [
       "['Ngày',\n",
       " 'Địa chỉ',\n",
       " 'Quận',\n",
       " 'Huyện',\n",
       " 'Loại hình nhà ở',\n",
       " 'Giấy tờ pháp lý',\n",
       " 'Số tầng',\n",
       " 'Số phòng ngủ',\n",
       " 'Diện tích',\n",
       " 'Dài',\n",
       " 'Rộng',\n",
       " 'Giá/m2']"
      ]
     },
     "execution_count": 4,
     "metadata": {},
     "output_type": "execute_result"
    }
   ],
   "source": [
    "df_cols = list(df.columns)\n",
    "\n",
    "df_cols"
   ]
  }
 ],
 "metadata": {
  "kernelspec": {
   "display_name": "venv",
   "language": "python",
   "name": "python3"
  },
  "language_info": {
   "codemirror_mode": {
    "name": "ipython",
    "version": 3
   },
   "file_extension": ".py",
   "mimetype": "text/x-python",
   "name": "python",
   "nbconvert_exporter": "python",
   "pygments_lexer": "ipython3",
   "version": "3.11.2"
  }
 },
 "nbformat": 4,
 "nbformat_minor": 2
}
